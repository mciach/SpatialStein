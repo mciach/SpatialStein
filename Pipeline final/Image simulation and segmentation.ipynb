{
 "cells": [
  {
   "cell_type": "markdown",
   "metadata": {},
   "source": [
    "## Description\n",
    "In this notebook, we use a reference image (manually generated in GIMP) to generate a simulated mass spectrometric (MS) image with overlapping isotopic envelopes. We will manually define the molecular formulas of the ions and their proportions in each region of the image.     \n",
    "We will simulate pixel-to-pixel variability in the MS image and measurement inaccuracies in individual spectra, including background noise.   \n",
    "\n",
    "We will then perform regression of spectra using `masserstein`.      \n",
    "\n",
    "Finally, we will compare four segmentation approaches: either based on peaks or `masserstein` estimates, and either using K-means or `spatial-DGMM` algorithms.  "
   ]
  },
  {
   "cell_type": "markdown",
   "metadata": {},
   "source": [
    "Simulation steps:  \n",
    "1. Generate reference spectra for different regions of the image using manually defined proportions\n",
    "2. For each pixel: \n",
    "  1. Sample numbers of ions for each molecule, with an average value depending on the region of the image, and a constant coefficient of variance; \n",
    "  2. Distort each spectrum by sampling from the multinomial process with the number of molecules given by the corresponding distorted proportion; \n",
    "  3. Combine the distorted spectra; \n",
    "  4. Add a handful of noise peaks amounting for 5% of the total signal to simulate contaminants; \n",
    "  5. Apply a Gaussian filter to the spectra to lower the resolution; \n",
    "  6. Apply a Gaussian distortion to each intensity measurement to simulate electronic noise; \n",
    "  7. Centroid the spectrum.  \n",
    "\n",
    "The result will be stored in imzML files for the profile and the centroided spectra.  "
   ]
  },
  {
   "cell_type": "markdown",
   "metadata": {},
   "source": [
    "## Python modules"
   ]
  },
  {
   "cell_type": "code",
   "execution_count": null,
   "metadata": {},
   "outputs": [],
   "source": [
    "%matplotlib inline"
   ]
  },
  {
   "cell_type": "code",
   "execution_count": null,
   "metadata": {},
   "outputs": [],
   "source": [
    "import imageio\n",
    "import numpy as np\n",
    "import numpy.random as rd \n",
    "from masserstein import Spectrum, estimate_proportions\n",
    "from matplotlib import cm\n",
    "from matplotlib import pyplot as plt\n",
    "from pyimzml.ImzMLWriter import ImzMLWriter\n",
    "from pyimzml.ImzMLParser import ImzMLParser\n",
    "from copy import deepcopy\n",
    "from scipy.stats import nbinom, pearsonr\n",
    "from sklearn.cluster import KMeans\n",
    "import pandas as pd"
   ]
  },
  {
   "cell_type": "code",
   "execution_count": null,
   "metadata": {},
   "outputs": [],
   "source": [
    "%load_ext rpy2.ipython"
   ]
  },
  {
   "cell_type": "code",
   "execution_count": null,
   "metadata": {
    "scrolled": true
   },
   "outputs": [],
   "source": [
    "%R library('Cardinal')"
   ]
  },
  {
   "cell_type": "code",
   "execution_count": null,
   "metadata": {},
   "outputs": [],
   "source": [
    "%R packageVersion('Cardinal')"
   ]
  },
  {
   "cell_type": "markdown",
   "metadata": {},
   "source": [
    "## Loading and preparation of the reference image"
   ]
  },
  {
   "cell_type": "markdown",
   "metadata": {},
   "source": [
    "Load the reference \"optical\" image: "
   ]
  },
  {
   "cell_type": "code",
   "execution_count": null,
   "metadata": {},
   "outputs": [],
   "source": [
    "mask = imageio.imread('SimulationMask.png')"
   ]
  },
  {
   "cell_type": "code",
   "execution_count": null,
   "metadata": {
    "scrolled": false
   },
   "outputs": [],
   "source": [
    "plt.figure(figsize=(3,3))\n",
    "plt.title('The reference image')\n",
    "plt.imshow(mask)\n",
    "plt.tight_layout()\n",
    "plt.show()"
   ]
  },
  {
   "cell_type": "markdown",
   "metadata": {},
   "source": [
    "The image contains four regions corresponding to four different colors.   \n",
    "Parse the image into four `numpy` arrays corresponding to each region:  "
   ]
  },
  {
   "cell_type": "code",
   "execution_count": null,
   "metadata": {},
   "outputs": [],
   "source": [
    "region1 = mask[:,:,1] == 128\n",
    "region2 = mask[:,:,1] == 46\n",
    "region3 = mask[:,:,1] == 130\n",
    "region4 = mask[:,:,1] == 53"
   ]
  },
  {
   "cell_type": "markdown",
   "metadata": {},
   "source": [
    "Generate a two-dimentional array storing the region index for each pixel:  "
   ]
  },
  {
   "cell_type": "code",
   "execution_count": null,
   "metadata": {},
   "outputs": [],
   "source": [
    "region_mapping = np.zeros(mask.shape[:2], dtype='int')\n",
    "for reg_id, reg_value in enumerate([128, 46, 130, 53]):\n",
    "    region_mapping[mask[:,:,1] == reg_value] = reg_id"
   ]
  },
  {
   "cell_type": "markdown",
   "metadata": {},
   "source": [
    "Visualize individual regions:"
   ]
  },
  {
   "cell_type": "code",
   "execution_count": null,
   "metadata": {},
   "outputs": [],
   "source": [
    "plt.figure(figsize=(6,2))\n",
    "plt.subplot(141)\n",
    "plt.title('Region 1')\n",
    "plt.imshow(region1)\n",
    "plt.subplot(142)\n",
    "plt.title('Region 2')\n",
    "plt.imshow(region2)\n",
    "plt.subplot(143)\n",
    "plt.title('Region 3')\n",
    "plt.imshow(region3)\n",
    "plt.subplot(144)\n",
    "plt.title('Region 4')\n",
    "plt.imshow(region4)\n",
    "plt.tight_layout()\n",
    "plt.show()"
   ]
  },
  {
   "cell_type": "markdown",
   "metadata": {},
   "source": [
    "Show the combined regions:"
   ]
  },
  {
   "cell_type": "code",
   "execution_count": null,
   "metadata": {},
   "outputs": [],
   "source": [
    "plt.figure(figsize=(3,3))\n",
    "plt.imshow(region_mapping)\n",
    "plt.show()"
   ]
  },
  {
   "cell_type": "markdown",
   "metadata": {},
   "source": [
    "Compute the region areas:"
   ]
  },
  {
   "cell_type": "code",
   "execution_count": null,
   "metadata": {},
   "outputs": [],
   "source": [
    "region_areas = [np.sum(region_mapping==i) for i in range(4)]\n",
    "print('Areas of regions in numbers of pixels:', region_areas)\n",
    "assert sum(region_areas) == region_mapping.shape[0]*region_mapping.shape[1]"
   ]
  },
  {
   "cell_type": "markdown",
   "metadata": {},
   "source": [
    "Generate masks of the top and bottom rectangles and the central square:"
   ]
  },
  {
   "cell_type": "code",
   "execution_count": null,
   "metadata": {},
   "outputs": [],
   "source": [
    "enrichment_mask = np.zeros(mask.shape[:2] + (3,), dtype='bool')\n",
    "enrichment_mask[...,0] = region1 + region3\n",
    "enrichment_mask[...,1] = region2 + region4\n",
    "enrichment_mask[...,2] = region3 + region4"
   ]
  },
  {
   "cell_type": "markdown",
   "metadata": {},
   "source": [
    "Optional: load the image from previous notebook run:"
   ]
  },
  {
   "cell_type": "code",
   "execution_count": null,
   "metadata": {},
   "outputs": [],
   "source": [
    "# profile_imzml = ImzMLParser('lipid_MSI_profile_mode.imzML')\n",
    "# image = np.zeros((mask.shape[0], mask.shape[1], len(mass_axis)))\n",
    "# for idx, (xcoord,ycoord,zcoord) in enumerate(profile_imzml.coordinates):\n",
    "#     mz, intsy = profile_imzml.getspectrum(idx)\n",
    "#     mz, intsy = np.array(mz), np.array(intsy)\n",
    "#     image[ycoord,xcoord,...] = intsy"
   ]
  },
  {
   "cell_type": "markdown",
   "metadata": {},
   "source": [
    "## Preparation of theoretical spectra"
   ]
  },
  {
   "cell_type": "markdown",
   "metadata": {},
   "source": [
    "We will generate theoretical spectra of three lipids for use as references in the simulations"
   ]
  },
  {
   "cell_type": "code",
   "execution_count": null,
   "metadata": {},
   "outputs": [],
   "source": [
    "lipid_names = ['PC(38:1)', 'PA(44:0)', 'PC(38:0)']\n",
    "lipid_formulas = ['C46H90NO8P', 'C47H93O8P', 'C46H92NO8P']"
   ]
  },
  {
   "cell_type": "code",
   "execution_count": null,
   "metadata": {},
   "outputs": [],
   "source": [
    "spectra = [Spectrum(f, adduct='K', threshold=0.001, label=n) for f, n in zip(lipid_formulas, lipid_names)]\n",
    "for s in spectra:\n",
    "    s.normalize()"
   ]
  },
  {
   "cell_type": "markdown",
   "metadata": {},
   "source": [
    "Monoisotopic peaks of the lipids:"
   ]
  },
  {
   "cell_type": "code",
   "execution_count": null,
   "metadata": {},
   "outputs": [],
   "source": [
    "for s in spectra:\n",
    "    print(s.label, s.confs[0][0], sep=': ')"
   ]
  },
  {
   "cell_type": "code",
   "execution_count": null,
   "metadata": {},
   "outputs": [],
   "source": [
    "plt.figure(figsize=(4,4))\n",
    "plt.title('Theoretical spectra')\n",
    "Spectrum.plot_all(spectra)\n",
    "plt.show()"
   ]
  },
  {
   "cell_type": "markdown",
   "metadata": {},
   "source": [
    "## Image simulation"
   ]
  },
  {
   "cell_type": "markdown",
   "metadata": {},
   "source": [
    "### Intensity averages"
   ]
  },
  {
   "cell_type": "markdown",
   "metadata": {},
   "source": [
    "Generate a 4x3 array of average ion counts of the three lipids in the four regions.   \n",
    "The array is constructed so that the isotopic peak of PC(38:1) overshadows the monoisotopic peak of PA(44:0).  "
   ]
  },
  {
   "cell_type": "code",
   "execution_count": null,
   "metadata": {},
   "outputs": [],
   "source": [
    "average_ion_counts = np.array([\n",
    "    [1e04, 2e03, 1e03],\n",
    "    [1e03, 4e03, 1e03],\n",
    "    [1e04, 2e03, 2e03],\n",
    "    [1e03, 4e03, 2e03]\n",
    "], dtype='int')"
   ]
  },
  {
   "cell_type": "markdown",
   "metadata": {},
   "source": [
    "Show the true distribution of lipid concentrations:"
   ]
  },
  {
   "cell_type": "code",
   "execution_count": null,
   "metadata": {},
   "outputs": [],
   "source": [
    "plt.figure(figsize=(9, 2))\n",
    "for lipid_id, lipid_name in enumerate(lipid_names):\n",
    "    plt.subplot(131 + lipid_id)\n",
    "    spatial_intensity = average_ion_counts[region_mapping, lipid_id]\n",
    "    plt.imshow(spatial_intensity, cmap=cm.Purples, vmin=0)\n",
    "    plt.title(lipid_name)\n",
    "    plt.colorbar()\n",
    "    plt.axis('off')\n",
    "plt.tight_layout()\n",
    "plt.savefig('Figs/simulations/lipid_enrichment_plot.png', dpi=300)"
   ]
  },
  {
   "cell_type": "markdown",
   "metadata": {},
   "source": [
    "We'll now visualize the reference spectra (in profile mode) of the four image regions.  \n",
    "First, define the mass axis for spectra in profile mode:"
   ]
  },
  {
   "cell_type": "code",
   "execution_count": null,
   "metadata": {},
   "outputs": [],
   "source": [
    "mass_axis = np.arange(854, 860, 0.01)"
   ]
  },
  {
   "cell_type": "markdown",
   "metadata": {},
   "source": [
    "Define the peak width (in terms of standard deviation of a Gaussian): "
   ]
  },
  {
   "cell_type": "code",
   "execution_count": null,
   "metadata": {},
   "outputs": [],
   "source": [
    "peak_sd = 0.05"
   ]
  },
  {
   "cell_type": "code",
   "execution_count": null,
   "metadata": {},
   "outputs": [],
   "source": [
    "2.355*peak_sd # FWHM"
   ]
  },
  {
   "cell_type": "code",
   "execution_count": null,
   "metadata": {},
   "outputs": [],
   "source": [
    "800/(2.355*peak_sd)"
   ]
  },
  {
   "cell_type": "markdown",
   "metadata": {},
   "source": [
    "Generate theoretical profile spectra:  "
   ]
  },
  {
   "cell_type": "code",
   "execution_count": null,
   "metadata": {},
   "outputs": [],
   "source": [
    "profile_spectra = [deepcopy(s) for s in spectra]\n",
    "for i, ps in enumerate(profile_spectra):\n",
    "    ps.gaussian_smoothing(peak_sd, 0.01)\n",
    "    profile_spectra[i] = ps.resample(mass_axis)"
   ]
  },
  {
   "cell_type": "code",
   "execution_count": null,
   "metadata": {
    "scrolled": false
   },
   "outputs": [],
   "source": [
    "cmap = plt.get_cmap(\"tab10\")\n",
    "fig, ax = plt.subplots(2, 2, sharex=True, sharey=True)\n",
    "\n",
    "for i in range(average_ion_counts.shape[0]):\n",
    "    plt.subplot(221 + i)\n",
    "    plt.title('Region %i reference spectrum' % (i+1))\n",
    "    cumulative_intensity = np.zeros(mass_axis.shape)\n",
    "    for j in range(average_ion_counts.shape[1]):\n",
    "        ions = average_ion_counts[i, j]/4\n",
    "        current_intensity = np.array([i*ions for m, i in profile_spectra[j].confs])\n",
    "        plt.fill_between(mass_axis, \n",
    "                         cumulative_intensity, \n",
    "                         current_intensity+cumulative_intensity,\n",
    "                         facecolor=cmap(j, alpha=0.8), edgecolor=(0,0,0,0))\n",
    "        cumulative_intensity += current_intensity\n",
    "    plt.plot(mass_axis, cumulative_intensity, color='k', alpha=0.6, lw=0.5)\n",
    "lgd = fig.legend(['Joint signal'] + lipid_names, loc='lower center', bbox_to_anchor=(.53, -.05), ncol=4)\n",
    "plt.tight_layout()\n",
    "plt.savefig('Figs/simulations/region_rainbow_reference.png', bbox_extra_artists=(lgd,), bbox_inches='tight', dpi=600)"
   ]
  },
  {
   "cell_type": "markdown",
   "metadata": {},
   "source": [
    "Note that the monoisotopic peak of PA(44:0) at 855.6 is higher in region 1 than in region 2 due to the contribution of PC(38:1) to its intensity.  "
   ]
  },
  {
   "cell_type": "markdown",
   "metadata": {},
   "source": [
    "### Intensity variances "
   ]
  },
  {
   "cell_type": "markdown",
   "metadata": {},
   "source": [
    "Calculate standard deviations of ion molecules for a fixed coefficient of variance, for a peak with intensity 0.5:"
   ]
  },
  {
   "cell_type": "code",
   "execution_count": null,
   "metadata": {},
   "outputs": [],
   "source": [
    "coefficient_of_variance = 0.4\n",
    "ion_count_variance = average_ion_counts**2*coefficient_of_variance**2 - average_ion_counts\n",
    "np.sqrt(ion_count_variance)"
   ]
  },
  {
   "cell_type": "markdown",
   "metadata": {},
   "source": [
    "### Whole image simulation"
   ]
  },
  {
   "cell_type": "markdown",
   "metadata": {},
   "source": [
    "We'll simulate each pixel independently.   \n",
    "In each pixel, we'll draw the number of ions of each lipid from the negative binomial distribution, with the average and variance given by `average_ion_counts` and `ion_count_variance`.  \n",
    "Next, we'll combine the theoretical spectra of the three lipids in proportions given by the drawn numbers of ions.  \n",
    "Next, we'll add a given number of randomly located peaks to simulate additional confounding signals. The number of added peaks is controlled by the `nb_of_noise_peaks` variable, and the total proportion of signal in the spectrum that they will correspond to is controlled by the `noise_proportion` variable.   \n",
    "Next, we'll apply a Gaussian filter with standard deviation given by the `peak_sd` variable defined earlier, to get spectra in profile mode.   \n",
    "Finally, we'll resample the spectrum so that the m/z measurements correspond to `mass_axis` defined earlier.   "
   ]
  },
  {
   "cell_type": "code",
   "execution_count": null,
   "metadata": {},
   "outputs": [],
   "source": [
    "nb_of_noise_peaks = 10\n",
    "noise_proportion = 0.1"
   ]
  },
  {
   "cell_type": "code",
   "execution_count": null,
   "metadata": {},
   "outputs": [],
   "source": [
    "image = np.zeros((mask.shape[0], mask.shape[1], len(mass_axis)))\n",
    "for i in range(mask.shape[0]):\n",
    "    for j in range(mask.shape[1]):\n",
    "        region_id = region_mapping[i, j]\n",
    "        ion_counts = average_ion_counts[region_id]\n",
    "        count_vars = ion_count_variance[region_id]\n",
    "        nbinom_p = ion_counts/count_vars\n",
    "        nbinom_n = ion_counts**2/(count_vars-ion_counts)\n",
    "        pixel_spectrum = Spectrum()\n",
    "        for s, p, n in zip(spectra, nbinom_p, nbinom_n):\n",
    "            nb_of_ions = nbinom.rvs(p=p, n=n)\n",
    "            s = Spectrum.sample_multinomial(s, nb_of_ions, 1, 0.001)\n",
    "            pixel_spectrum += s\n",
    "        pixel_spectrum.add_chemical_noise(nb_of_noise_peaks, noise_proportion)\n",
    "        pixel_spectrum.gaussian_smoothing(peak_sd, 0.01)\n",
    "        pixel_spectrum = pixel_spectrum.resample(mass_axis)\n",
    "        pixel_spectrum.set_confs([c for c in pixel_spectrum.confs if c[1] >= 0])\n",
    "        image[i,j,:] = [y for x,y in pixel_spectrum.confs]"
   ]
  },
  {
   "cell_type": "markdown",
   "metadata": {},
   "source": [
    "### Calculating the monoisotopic peak areas in the simulated image"
   ]
  },
  {
   "cell_type": "markdown",
   "metadata": {},
   "source": [
    "Manually defined regions for integration of the monoisotopic peaks:  \n",
    "(we could as well centroid the pixel spectra and then select the monoisotopic peaks, but this is a faster way that gives the same results) "
   ]
  },
  {
   "cell_type": "code",
   "execution_count": null,
   "metadata": {},
   "outputs": [],
   "source": [
    "integration_regions = [\n",
    "    (854.4, 854.8),\n",
    "    (855.4, 855.8),\n",
    "    (856.4, 856.8)\n",
    "]"
   ]
  },
  {
   "cell_type": "code",
   "execution_count": null,
   "metadata": {},
   "outputs": [],
   "source": [
    "integrated_peak_areas = np.zeros(mask.shape[:2] + (len(integration_regions), ))\n",
    "for peak_id, peak_region in enumerate(integration_regions):\n",
    "    areas = np.zeros(mask.shape[:2])\n",
    "    for i in range(areas.shape[0]):\n",
    "        for j in range(areas.shape[1]):\n",
    "            intsy = image[i, j]\n",
    "            to_take = (mass_axis >= peak_region[0])*(mass_axis <= peak_region[1])\n",
    "            areas[i,j] = np.trapz(intsy[to_take], mass_axis[to_take])\n",
    "    integrated_peak_areas[:,:,peak_id] = areas"
   ]
  },
  {
   "cell_type": "markdown",
   "metadata": {},
   "source": [
    "## Verification of the simulation results"
   ]
  },
  {
   "cell_type": "markdown",
   "metadata": {},
   "source": [
    "Example simulated spectra:"
   ]
  },
  {
   "cell_type": "code",
   "execution_count": null,
   "metadata": {},
   "outputs": [],
   "source": [
    "selected_coords = [next(zip(*np.where(region_mapping==i))) for i in range(4)]"
   ]
  },
  {
   "cell_type": "code",
   "execution_count": null,
   "metadata": {
    "scrolled": false
   },
   "outputs": [],
   "source": [
    "plt.subplots(2, 2, sharex=True, sharey=True)\n",
    "for i, crd in enumerate(selected_coords):\n",
    "    plt.subplot(221+i)\n",
    "    plt.title('Region %i example spectrum' % (i+1))\n",
    "    plt.plot(mass_axis, image[crd])\n",
    "plt.tight_layout()\n",
    "plt.savefig('Figs/simulations/region_example.png', dpi = 300)"
   ]
  },
  {
   "cell_type": "markdown",
   "metadata": {},
   "source": [
    "Generate peak intensity images:"
   ]
  },
  {
   "cell_type": "code",
   "execution_count": null,
   "metadata": {},
   "outputs": [],
   "source": [
    "plt.subplots(2, 3, figsize=(9, 7))\n",
    "for lipid_id, lipid_name in enumerate(lipid_names):\n",
    "    plt.subplot(331 + lipid_id)\n",
    "    spatial_intensity = average_ion_counts[region_mapping, lipid_id]\n",
    "    plt.imshow(spatial_intensity, vmin=-1) # , vmin=-1, vmax=10000)\n",
    "    plt.title(lipid_name + '\\n true concentration')\n",
    "    plt.colorbar()\n",
    "for peak_id, peak_region in enumerate(integration_regions):\n",
    "    plt.subplot(334 + peak_id)\n",
    "    plt.title(lipid_name + '\\npeak intensity')\n",
    "    plt.imshow(integrated_peak_areas[..., peak_id], cmap=cm.magma, vmin=-1)# , vmin=-1, vmax=8000)\n",
    "    plt.colorbar()\n",
    "plt.tight_layout()"
   ]
  },
  {
   "cell_type": "markdown",
   "metadata": {},
   "source": [
    "We can already appreciate the effect of peak overlaps and pixel-to-pixel variability.  "
   ]
  },
  {
   "cell_type": "markdown",
   "metadata": {},
   "source": [
    "Visualize the distribution of peak areas for each lipid:"
   ]
  },
  {
   "cell_type": "code",
   "execution_count": null,
   "metadata": {},
   "outputs": [],
   "source": [
    "plt.subplots(1, 3, figsize=(8,3))\n",
    "for lipid_id, lipid_name in enumerate(lipid_names):\n",
    "    plt.subplot(131 + lipid_id)\n",
    "    plt.xlim(0, 20000)\n",
    "    plt.title(lipid_name + ' peak intensity')\n",
    "    plt.hist(integrated_peak_areas[:,:,lipid_id].reshape((-1,)), bins=100)\n",
    "plt.tight_layout()"
   ]
  },
  {
   "cell_type": "markdown",
   "metadata": {},
   "source": [
    "## Regressing the theoretical spectra against the simulated pixel spectra"
   ]
  },
  {
   "cell_type": "markdown",
   "metadata": {},
   "source": [
    "We'll quantify the amount of signal of each lipid in each pixel spectrum.   \n",
    "Not that we'll quantify the total signal of each lipid (i.e. it's going to be proportional to the total ion current in the analyzed spectrum) rather than the proportion of the signal (i.e. a relative concentration of each lipid).   "
   ]
  },
  {
   "cell_type": "code",
   "execution_count": null,
   "metadata": {},
   "outputs": [],
   "source": [
    "estimated_lipid_signals = np.zeros(mask.shape[:2] + (len(spectra), ))\n",
    "# # If we want to quantify signals directly from the profile-mode spectra (without centroiding):\n",
    "# profile_estimated_lipid_signals = np.zeros(mask.shape[:2] + (len(spectra), ))\n",
    "for xid in range(mask.shape[0]):\n",
    "    for yid in range(mask.shape[1]):\n",
    "        intensity = image[xid, yid]\n",
    "        TIC = np.trapz(intensity, mass_axis)\n",
    "        s = Spectrum(confs=list(zip(mass_axis, intensity)))\n",
    "        # # If we want to quantify signals directly from the profile-mode spectra (without centroiding):\n",
    "        # s.normalize()\n",
    "        # regression = estimate_proportions(s, spectra, progress=False, MTD=0.2)\n",
    "        # proportions = np.array(regression['proportions'])\n",
    "        # signals = proportions*TIC\n",
    "        # profile_estimated_lipid_signals[xid, yid] = signals\n",
    "        \n",
    "        # Centroid the spectrum & regress against the theoretical spectra: \n",
    "        s = Spectrum(confs=s.centroid(max_width=0.4, peak_height_fraction=0.2)[0])\n",
    "        s.normalize()\n",
    "        regression = estimate_proportions(s, spectra, progress=False, MTD=0.2)\n",
    "        proportions = np.array(regression['proportions'])\n",
    "        # Multiply the estimated proportions of lipids by the total ion current\n",
    "        # to obtain the estimated signal contributions:  \n",
    "        signals = proportions*TIC\n",
    "        estimated_lipid_signals[xid, yid] = signals"
   ]
  },
  {
   "cell_type": "markdown",
   "metadata": {},
   "source": [
    "Compare the estimated signal with the monoisotopic peak area and the true distribution of the lipids:   "
   ]
  },
  {
   "cell_type": "code",
   "execution_count": null,
   "metadata": {
    "scrolled": false
   },
   "outputs": [],
   "source": [
    "plt.subplots(3, 3, figsize=(9, 7))\n",
    "for lipid_id, lipid_name in enumerate(lipid_names):\n",
    "    plt.subplot(3, 3, 1 + lipid_id)\n",
    "    spatial_intensity = average_ion_counts[region_mapping, lipid_id]\n",
    "    plt.imshow(spatial_intensity, vmin=-1) \n",
    "    plt.axis('off')\n",
    "    plt.title(lipid_name + '\\n true concentration')\n",
    "    plt.colorbar()\n",
    "for peak_id, peak_region in enumerate(integration_regions):\n",
    "    plt.subplot(3, 3, 4 + peak_id)\n",
    "    plt.title(lipid_name + '\\npeak intensity')\n",
    "    plt.imshow(integrated_peak_areas[..., peak_id], cmap=cm.magma, vmin=-1)\n",
    "    plt.axis('off')\n",
    "    plt.colorbar()\n",
    "for lipid_id, lipid_name in enumerate(lipid_names):\n",
    "    plt.subplot(3, 3, 7 + lipid_id)\n",
    "    plt.imshow(estimated_lipid_signals[...,lipid_id], cmap=cm.magma, vmin=-1)\n",
    "    plt.title(lipid_name + '\\nestimated signal')\n",
    "    plt.axis('off')\n",
    "    plt.colorbar()    \n",
    "    \n",
    "plt.tight_layout()\n",
    "plt.savefig('Figs/simulations/peak_vs_signal.png', dpi=600)"
   ]
  },
  {
   "cell_type": "markdown",
   "metadata": {},
   "source": [
    "## K-means image segmentation"
   ]
  },
  {
   "cell_type": "markdown",
   "metadata": {},
   "source": [
    "A simple K-means image segmentation based on peak areas:"
   ]
  },
  {
   "cell_type": "code",
   "execution_count": null,
   "metadata": {},
   "outputs": [],
   "source": [
    "peak_kmeans_segmentation = np.zeros(integrated_peak_areas.shape)\n",
    "nclust = 2\n",
    "for lipid_id, lipid_name in enumerate(lipid_names):\n",
    "    peak_intensities = integrated_peak_areas[:,:,lipid_id]\n",
    "    peak_intensities = peak_intensities.reshape((-1,1))\n",
    "    peak_kmeans = KMeans(n_clusters=nclust)\n",
    "    region_classification = peak_kmeans.fit_predict(peak_intensities)\n",
    "    region_classification = region_classification.reshape(40, 40)\n",
    "    region_classification = np.argsort(np.argsort(peak_kmeans.cluster_centers_.reshape((-1,))))[region_classification]\n",
    "    peak_kmeans_segmentation[..., lipid_id] = region_classification\n",
    "    "
   ]
  },
  {
   "cell_type": "markdown",
   "metadata": {},
   "source": [
    "K-means image segmentation based on estimated signals:"
   ]
  },
  {
   "cell_type": "code",
   "execution_count": null,
   "metadata": {},
   "outputs": [],
   "source": [
    "masserstein_kmeans_segmentation = np.zeros(integrated_peak_areas.shape)\n",
    "for lipid_id, lipid_name in enumerate(lipid_names):\n",
    "    lipid_signals = estimated_lipid_signals[:,:,lipid_id]\n",
    "    lipid_signals = lipid_signals.reshape((-1,1))\n",
    "    peak_kmeans = KMeans(n_clusters=nclust)\n",
    "    region_classification = peak_kmeans.fit_predict(lipid_signals)\n",
    "    region_classification = region_classification.reshape(40, 40)\n",
    "    lipid_signals = lipid_signals.reshape((40, 40))\n",
    "    region_classification = np.argsort(np.argsort(peak_kmeans.cluster_centers_.reshape((-1,))))[region_classification]\n",
    "    masserstein_kmeans_segmentation[..., lipid_id] = region_classification\n",
    "    "
   ]
  },
  {
   "cell_type": "markdown",
   "metadata": {},
   "source": [
    "## spatial-DGMM image segmentation"
   ]
  },
  {
   "cell_type": "markdown",
   "metadata": {},
   "source": [
    "Now, we'll perform a spatial-DGMM segmentations based on peak intensities and based on masserstein estimates.   \n",
    "First, convert the signal and intensity arrays to data frames in a long format "
   ]
  },
  {
   "cell_type": "code",
   "execution_count": null,
   "metadata": {},
   "outputs": [],
   "source": [
    "coords = [[j, i] for i in range(40) for j in range(40)]"
   ]
  },
  {
   "cell_type": "code",
   "execution_count": null,
   "metadata": {},
   "outputs": [],
   "source": [
    "integrated_peak_areas_melt = [integrated_peak_areas[i,j,...] for i in range(40) for j in range(40)] \n",
    "estimated_lipid_signals_melt = [estimated_lipid_signals[i,j,...] for i in range(40) for j in range(40)] "
   ]
  },
  {
   "cell_type": "code",
   "execution_count": null,
   "metadata": {},
   "outputs": [],
   "source": [
    "integrated_peak_areas_df = pd.DataFrame(integrated_peak_areas_melt, columns = lipid_names)\n",
    "estimated_lipid_signals_df = pd.DataFrame(estimated_lipid_signals_melt, columns = lipid_names)"
   ]
  },
  {
   "cell_type": "markdown",
   "metadata": {},
   "source": [
    "Import the prepared data frames into the R environment"
   ]
  },
  {
   "cell_type": "code",
   "execution_count": null,
   "metadata": {},
   "outputs": [],
   "source": [
    "%R -i integrated_peak_areas_df \n",
    "%R -i estimated_lipid_signals_df\n",
    "%R -i coords\n",
    "%R -i lipid_names"
   ]
  },
  {
   "cell_type": "markdown",
   "metadata": {},
   "source": [
    "Prepare the `MSImagingExperiment` objects from the `Cardinal` package"
   ]
  },
  {
   "cell_type": "code",
   "execution_count": null,
   "metadata": {},
   "outputs": [],
   "source": [
    "%%R \n",
    "\n",
    "coords <- as.data.frame(t(coords))\n",
    "colnames(coords) <- c('x', 'y')"
   ]
  },
  {
   "cell_type": "code",
   "execution_count": null,
   "metadata": {},
   "outputs": [],
   "source": [
    "%%R\n",
    "\n",
    "intsy_data <- t(integrated_peak_areas_df)\n",
    "signal_data <- t(estimated_lipid_signals_df)\n",
    "fdata <- MassDataFrame(mz=1:3, row.names=as.character(lipid_names))\n",
    "run <- factor(rep(\"run0\", ncol(coords)))\n",
    "pdata <- PositionDataFrame(run=run, coord=coords)\n",
    "\n",
    "masserstein_image <- MSImagingExperiment(spectraData=signal_data,\n",
    "                                         featureData=fdata,\n",
    "                                         pixelData=pdata,\n",
    "                                        centroided=TRUE)\n",
    "\n",
    "intensity_image <- MSImagingExperiment(spectraData=intsy_data,\n",
    "                                       featureData=fdata,\n",
    "                                       pixelData=pdata,\n",
    "                                      centroided=TRUE)"
   ]
  },
  {
   "cell_type": "code",
   "execution_count": null,
   "metadata": {},
   "outputs": [],
   "source": [
    "%%R\n",
    "\n",
    "intensity_image"
   ]
  },
  {
   "cell_type": "markdown",
   "metadata": {},
   "source": [
    "Visualize the obtained images to verify if the imports and convertions were successful.  "
   ]
  },
  {
   "cell_type": "code",
   "execution_count": null,
   "metadata": {},
   "outputs": [],
   "source": [
    "%%R \n",
    "image(intensity_image, i=1:3)"
   ]
  },
  {
   "cell_type": "code",
   "execution_count": null,
   "metadata": {},
   "outputs": [],
   "source": [
    "%%R \n",
    "image(masserstein_image,i=1:3)"
   ]
  },
  {
   "cell_type": "markdown",
   "metadata": {},
   "source": [
    "Do the segmentation:"
   ]
  },
  {
   "cell_type": "code",
   "execution_count": null,
   "metadata": {},
   "outputs": [],
   "source": [
    "%%R \n",
    "\n",
    "peak_sdgmm <- spatialDGMM(intensity_image)\n",
    "masserstein_sdgmm <- spatialDGMM(masserstein_image)"
   ]
  },
  {
   "cell_type": "markdown",
   "metadata": {},
   "source": [
    "Visualize segmentations in R prior to importing back to Python:"
   ]
  },
  {
   "cell_type": "code",
   "execution_count": null,
   "metadata": {},
   "outputs": [],
   "source": [
    "%%R \n",
    "\n",
    "image(peak_sdgmm, values='class', i=1:3)"
   ]
  },
  {
   "cell_type": "code",
   "execution_count": null,
   "metadata": {},
   "outputs": [],
   "source": [
    "%%R\n",
    "\n",
    "plot(peak_sdgmm, i=1:3)"
   ]
  },
  {
   "cell_type": "code",
   "execution_count": null,
   "metadata": {},
   "outputs": [],
   "source": [
    "%%R\n",
    "\n",
    "image(masserstein_sdgmm, values='class', i=1:3)"
   ]
  },
  {
   "cell_type": "code",
   "execution_count": null,
   "metadata": {},
   "outputs": [],
   "source": [
    "%%R\n",
    "\n",
    "plot(masserstein_sdgmm, i=1:3)"
   ]
  },
  {
   "cell_type": "code",
   "execution_count": null,
   "metadata": {},
   "outputs": [],
   "source": [
    "%%R\n",
    "\n",
    "masserstein_sdgmm_segmentation_melt <- sapply(masserstein_sdgmm$class, as.numeric)\n",
    "peak_sdgmm_segmentation_melt <- sapply(peak_sdgmm$class, as.numeric)\n"
   ]
  },
  {
   "cell_type": "code",
   "execution_count": null,
   "metadata": {},
   "outputs": [],
   "source": [
    "masserstein_sdgmm_segmentation_melt = %Rget masserstein_sdgmm_segmentation_melt\n",
    "peak_sdgmm_segmentation_melt = %Rget peak_sdgmm_segmentation_melt"
   ]
  },
  {
   "cell_type": "code",
   "execution_count": null,
   "metadata": {},
   "outputs": [],
   "source": [
    "masserstein_sdgmm_segmentation = np.array(\n",
    "    [\n",
    "        [\n",
    "            [\n",
    "                masserstein_sdgmm_segmentation_melt[40*i+j,k] for k in range(3) \n",
    "            ]  for j in range(40)\n",
    "        ] for i in range(40)\n",
    "    ]\n",
    ")\n",
    "masserstein_sdgmm_segmentation -= 2\n",
    "masserstein_sdgmm_segmentation *= -1\n",
    "\n",
    "peak_sdgmm_segmentation = np.array(\n",
    "    [\n",
    "        [\n",
    "            [\n",
    "                peak_sdgmm_segmentation_melt[40*i+j,k] for k in range(3) \n",
    "            ]  for j in range(40)\n",
    "        ] for i in range(40)\n",
    "    ]\n",
    ")\n",
    "peak_sdgmm_segmentation -= 2\n",
    "peak_sdgmm_segmentation *= -1"
   ]
  },
  {
   "cell_type": "markdown",
   "metadata": {},
   "source": [
    "Verify a successful conversion:"
   ]
  },
  {
   "cell_type": "code",
   "execution_count": null,
   "metadata": {},
   "outputs": [],
   "source": [
    "plt.subplots(2,3, figsize=(8,4))\n",
    "for lipid_id, lipid_name in enumerate(lipid_names):\n",
    "    plt.subplot(231+lipid_id)\n",
    "    plt.title(lipid_name + ' peak')\n",
    "    plt.imshow(peak_sdgmm_segmentation[..., lipid_id])\n",
    "    plt.axis('off')\n",
    "    plt.subplot(234+lipid_id)\n",
    "    plt.title(lipid_name + ' signal')\n",
    "    plt.imshow(masserstein_sdgmm_segmentation[..., lipid_id])\n",
    "    plt.axis('off')\n",
    "plt.tight_layout()"
   ]
  },
  {
   "cell_type": "markdown",
   "metadata": {},
   "source": [
    "## Comparison of segmentation results"
   ]
  },
  {
   "cell_type": "markdown",
   "metadata": {},
   "source": [
    "Accuracy of different segmentation approaches"
   ]
  },
  {
   "cell_type": "code",
   "execution_count": null,
   "metadata": {},
   "outputs": [],
   "source": [
    "nclust = 2\n",
    "\n",
    "algorithms = ['Peak K-means', 'WS K-means', 'Peak sDGMM', 'WS sDGMM']\n",
    "accuracy = np.zeros((len(lipid_names), len(algorithms)))\n",
    "correlation = np.zeros((len(lipid_names), len(algorithms)))\n",
    "\n",
    "for lipid_id, lipid_name in enumerate(lipid_names):\n",
    "    # Peak K-means\n",
    "    region_classification = peak_kmeans_segmentation[..., lipid_id]\n",
    "    accuracy[lipid_id, 0] = np.mean(region_classification == enrichment_mask[...,lipid_id])\n",
    "    correlation[lipid_id, 0] = pearsonr(region_classification.flatten(), enrichment_mask[...,lipid_id].flatten())[0]\n",
    "    # WS K-means\n",
    "    region_classification = masserstein_kmeans_segmentation[..., lipid_id]\n",
    "    accuracy[lipid_id, 1] = np.mean(region_classification == enrichment_mask[...,lipid_id])\n",
    "    correlation[lipid_id, 1] = pearsonr(region_classification.flatten(), enrichment_mask[...,lipid_id].flatten())[0]\n",
    "    # Peak spatialDGMM\n",
    "    region_classification = peak_sdgmm_segmentation[..., lipid_id]\n",
    "    accuracy[lipid_id, 2] = np.mean(region_classification == enrichment_mask[...,lipid_id])\n",
    "    correlation[lipid_id, 2] = pearsonr(region_classification.flatten(), enrichment_mask[...,lipid_id].flatten())[0]\n",
    "    # WS spatialDGMM\n",
    "    region_classification = masserstein_sdgmm_segmentation[..., lipid_id]\n",
    "    # ws_sdgmm_specificity[lipid_id] = np.sum(region_classification * enrichment_mask[...,lipid_id])/np.sum(enrichment_mask[...,lipid_id])\n",
    "    accuracy[lipid_id, 3] = np.mean(region_classification == enrichment_mask[...,lipid_id])\n",
    "    correlation[lipid_id, 3] = pearsonr(region_classification.flatten(), enrichment_mask[...,lipid_id].flatten())[0]\n",
    "\n",
    "average_accuracy = np.mean(accuracy, axis=0)\n",
    "average_correlation = np.mean(correlation, axis=0)"
   ]
  },
  {
   "cell_type": "code",
   "execution_count": null,
   "metadata": {},
   "outputs": [],
   "source": [
    "print('Accuracy of segmentation:')\n",
    "print('Lipid     ', 'Peak K-means', 'WS K-means', 'Peak sDGMM', 'WS sDGMM', sep='\\t')\n",
    "for i, n in enumerate(lipid_names):\n",
    "    acc_vec = ['{:2.2f}%     '.format(100*x) for x in accuracy[i]]\n",
    "    print(n, *acc_vec, sep='\\t')\n",
    "print('Average     ', *['{:2.2f}%     '.format(100*x) for x in average_accuracy], sep='\\t')\n",
    "print('Correlation of segmentation:')\n",
    "print('Lipid     ', 'Peak K-means', 'WS K-means', 'Peak sDGMM', 'WS sDGMM', sep='\\t')\n",
    "for i, n in enumerate(lipid_names):\n",
    "    corr_vec = ['{:0.4f}     '.format(x) for x in correlation[i]]\n",
    "    print(n, *corr_vec, sep='\\t')\n",
    "print('Average     ', *['{:0.4f}     '.format(x) for x in average_correlation], sep='\\t')"
   ]
  },
  {
   "cell_type": "markdown",
   "metadata": {},
   "source": [
    "Visualize segments obtained with the four approaches:"
   ]
  },
  {
   "cell_type": "code",
   "execution_count": null,
   "metadata": {},
   "outputs": [],
   "source": [
    "accuracy"
   ]
  },
  {
   "cell_type": "code",
   "execution_count": null,
   "metadata": {},
   "outputs": [],
   "source": [
    "plt.subplots(4, 3, figsize=(4.6,6.3))\n",
    "for lipid_id, lipid_name in enumerate(lipid_names):\n",
    "    plt.subplot(4, 3, 1 + lipid_id)\n",
    "    plt.title(lipid_name)\n",
    "    plt.imshow(peak_kmeans_segmentation[..., lipid_id])\n",
    "    plt.text(38, 1, str(int(100*accuracy[lipid_id, 0]))+'%',\n",
    "            bbox=dict(facecolor='white', edgecolor='black', boxstyle='round,pad=0.2'),\n",
    "            ha='right', va='top')\n",
    "    plt.axis('off')\n",
    "    \n",
    "    plt.subplot(4, 3, 4 + lipid_id)\n",
    "    plt.imshow(peak_sdgmm_segmentation[..., lipid_id])\n",
    "    plt.text(38, 1, str(int(100*accuracy[lipid_id, 2]))+'%',\n",
    "            bbox=dict(facecolor='white', edgecolor='black', boxstyle='round,pad=0.2'),\n",
    "            ha='right', va='top')\n",
    "    plt.axis('off')\n",
    "    \n",
    "    plt.subplot(4, 3, 7 + lipid_id)\n",
    "    plt.imshow(masserstein_kmeans_segmentation[..., lipid_id])\n",
    "    plt.text(38, 1, str(int(100*accuracy[lipid_id, 1]))+'%',\n",
    "            bbox=dict(facecolor='white', edgecolor='black', boxstyle='round,pad=0.2'),\n",
    "            ha='right', va='top')\n",
    "    plt.axis('off')\n",
    "    \n",
    "    plt.subplot(4, 3, 10 + lipid_id)\n",
    "    plt.imshow(masserstein_sdgmm_segmentation[..., lipid_id])\n",
    "    plt.text(38, 1, str(int(100*accuracy[lipid_id, 3]))+'%',\n",
    "            bbox=dict(facecolor='white', edgecolor='black', boxstyle='round,pad=0.2'),\n",
    "            ha='right', va='top')\n",
    "    plt.axis('off')\n",
    "    \n",
    "plt.subplot(4,3,3)\n",
    "plt.text(40, 20, 'Peak intensity\\nK-means', rotation=-90, rotation_mode='anchor', ha='center', va='bottom')\n",
    "plt.subplot(4,3,6)\n",
    "plt.text(40, 20, 'Peak intensity\\nspatial-DGMM', rotation=-90, rotation_mode='anchor', ha='center', va='bottom')\n",
    "plt.subplot(4,3,9)\n",
    "plt.text(40, 20, 'Masserstein\\nK-means', rotation=-90, rotation_mode='anchor', ha='center', va='bottom')\n",
    "plt.subplot(4,3,12)\n",
    "plt.text(40, 20, 'Masserstein\\nspatial-DGMM', rotation=-90, rotation_mode='anchor', ha='center', va='bottom')\n",
    "\n",
    "plt.tight_layout()\n",
    "plt.savefig('Figs/simulations/segmentation_comparison.png', dpi=600)"
   ]
  },
  {
   "cell_type": "markdown",
   "metadata": {},
   "source": [
    "Visualize the distribution of signals in clusters"
   ]
  },
  {
   "cell_type": "code",
   "execution_count": null,
   "metadata": {},
   "outputs": [],
   "source": [
    "plt.subplots(6, 3, figsize=(12,14))\n",
    "for lipid_id, lipid_name in enumerate(lipid_names):\n",
    "    plt.subplot(6, 3, 1 + lipid_id)\n",
    "    plt.hist([integrated_peak_areas[enrichment_mask[..., lipid_id]==i, lipid_id] for i in range(nclust)], stacked=True, bins=40)\n",
    "    plt.legend(['Low','High'])\n",
    "    plt.title(lipid_name + ', peak intensity\\nTrue segments')\n",
    "    \n",
    "    plt.subplot(6, 3, 4 + lipid_id)\n",
    "    plt.hist([estimated_lipid_signals[enrichment_mask[..., lipid_id]==i, lipid_id] for i in range(nclust)], stacked=True, bins=40)\n",
    "    plt.legend(['Low','High'])\n",
    "    plt.title(lipid_name + ', Masserstein\\nTrue segments')\n",
    "    \n",
    "    plt.subplot(6, 3, 7 + lipid_id)\n",
    "    plt.hist([integrated_peak_areas[peak_kmeans_segmentation[..., lipid_id]==i, lipid_id] for i in range(nclust)], stacked=True, bins=40)\n",
    "    plt.legend(['Cluster 0','Cluster 1'])\n",
    "    plt.title(lipid_name + ', peak intensity\\nK-means')\n",
    "    \n",
    "    plt.subplot(6, 3, 10 + lipid_id)\n",
    "    plt.hist([estimated_lipid_signals[masserstein_kmeans_segmentation[..., lipid_id]==i, lipid_id] for i in range(nclust)], stacked=True, bins=40)\n",
    "    plt.legend(['Cluster 0','Cluster 1'])\n",
    "    plt.title(lipid_name + ', Masserstein\\nK-means')\n",
    "    \n",
    "    plt.subplot(6, 3, 13 + lipid_id)\n",
    "    plt.hist([integrated_peak_areas[peak_sdgmm_segmentation[..., lipid_id]==i, lipid_id] for i in range(nclust)], stacked=True, bins=40)\n",
    "    plt.legend(['Cluster 0','Cluster 1'])\n",
    "    plt.title(lipid_name + ', peak intensity\\nspatial-DGMM')\n",
    "    \n",
    "    plt.subplot(6, 3, 16 + lipid_id)\n",
    "    plt.hist([estimated_lipid_signals[masserstein_sdgmm_segmentation[..., lipid_id]==i, lipid_id] for i in range(nclust)], stacked=True, bins=40)\n",
    "    plt.legend(['Cluster 0','Cluster 1'])\n",
    "    plt.title(lipid_name + ', Masserstein\\nspatial-DGMM')\n",
    "plt.tight_layout()\n",
    "plt.savefig('Figs/simulations/intensity_distributions_in_clusters.png', dpi=600)"
   ]
  },
  {
   "cell_type": "markdown",
   "metadata": {},
   "source": [
    "## Saving the results"
   ]
  },
  {
   "cell_type": "markdown",
   "metadata": {},
   "source": [
    "Save the table of lipid formulas used in the simulation and their monoisotopic peaks:"
   ]
  },
  {
   "cell_type": "code",
   "execution_count": null,
   "metadata": {},
   "outputs": [],
   "source": [
    "# with open('lipid_table.tsv', 'w') as h:\n",
    "#     h.write('\\t'.join(['Name', 'Formula', 'Monoisotopic mass']) + '\\n')\n",
    "#     for s in spectra:\n",
    "#         h.write(s.label + '\\t' + s.formula + '\\t' + str(s.confs[0][0]) + '\\n')"
   ]
  },
  {
   "cell_type": "markdown",
   "metadata": {},
   "source": [
    "Save the image in profile mode in imzML:"
   ]
  },
  {
   "cell_type": "code",
   "execution_count": null,
   "metadata": {},
   "outputs": [],
   "source": [
    "# with ImzMLWriter('lipid_MSI_profile_mode.imzML') as writer:\n",
    "#     for i in range(mask.shape[0]):\n",
    "#         if not i % 50:\n",
    "#             print(i)\n",
    "#         for j in range(mask.shape[1]):\n",
    "#             writer.addSpectrum(mass_axis, image[i,j,:], (j, i))"
   ]
  },
  {
   "cell_type": "markdown",
   "metadata": {},
   "source": [
    "Centroid the image and save it in imzML:"
   ]
  },
  {
   "cell_type": "code",
   "execution_count": null,
   "metadata": {},
   "outputs": [],
   "source": [
    "# with ImzMLWriter('lipid_MSI_centroid_mode.imzML') as writer:\n",
    "#     for i in range(mask.shape[0]):\n",
    "#         if not i % 50:\n",
    "#             print(i)\n",
    "#         for j in range(mask.shape[1]):\n",
    "#             S = Spectrum(confs=list(zip(mass_axis, image[i,j,:])))\n",
    "#             peaks, _ = S.centroid(max_width = 0.4, peak_height_fraction=0.2)\n",
    "#             mzs = [p[0] for p in peaks]\n",
    "#             intsys = [p[1] for p in peaks]\n",
    "#             writer.addSpectrum(mzs, intsys, (j, i))"
   ]
  },
  {
   "cell_type": "markdown",
   "metadata": {},
   "source": [
    "Save the results of regression of spectra:"
   ]
  },
  {
   "cell_type": "code",
   "execution_count": null,
   "metadata": {},
   "outputs": [],
   "source": [
    "# with open('lipid_regression_results.tsv', 'w') as h:\n",
    "#     h.write('\\t'.join(['X', 'Y']+names) + '\\n')\n",
    "#     for x_coord in range(estimated_lipid_signals.shape[1]):\n",
    "#         for y_coord in range(estimated_lipid_signals.shape[0]):\n",
    "#             h.write('\\t'.join(map(str, (x_coord, y_coord))))\n",
    "#             h.write('\\t')\n",
    "#             h.write('\\t'.join(map(str, estimated_lipid_signals[y_coord, x_coord, ...])))\n",
    "#             h.write('\\n')"
   ]
  }
 ],
 "metadata": {
  "kernelspec": {
   "display_name": "Python 3 (ipykernel)",
   "language": "python",
   "name": "python3"
  },
  "language_info": {
   "codemirror_mode": {
    "name": "ipython",
    "version": 3
   },
   "file_extension": ".py",
   "mimetype": "text/x-python",
   "name": "python",
   "nbconvert_exporter": "python",
   "pygments_lexer": "ipython3",
   "version": "3.10.12"
  }
 },
 "nbformat": 4,
 "nbformat_minor": 2
}
