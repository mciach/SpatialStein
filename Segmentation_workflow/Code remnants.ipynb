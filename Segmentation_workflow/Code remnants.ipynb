{
 "cells": [
  {
   "cell_type": "markdown",
   "id": "9fda7d7a",
   "metadata": {},
   "source": [
    "# Segmentation of simulated images:"
   ]
  },
  {
   "cell_type": "markdown",
   "id": "62c6a254",
   "metadata": {},
   "source": [
    "## K-means image segmentation"
   ]
  },
  {
   "cell_type": "markdown",
   "id": "080d9ac7",
   "metadata": {},
   "source": [
    "A simple K-means image segmentation based on peak areas:"
   ]
  },
  {
   "cell_type": "code",
   "execution_count": null,
   "id": "ef26c1d2",
   "metadata": {},
   "outputs": [],
   "source": [
    "peak_kmeans_segmentation = np.zeros(integrated_peak_areas.shape)\n",
    "nclust = 2\n",
    "for lipid_id, lipid_name in enumerate(lipid_names):\n",
    "    peak_intensities = integrated_peak_areas[:,:,lipid_id]\n",
    "    peak_intensities = peak_intensities.reshape((-1,1))\n",
    "    peak_kmeans = KMeans(n_clusters=nclust)\n",
    "    region_classification = peak_kmeans.fit_predict(peak_intensities)\n",
    "    region_classification = region_classification.reshape(40, 40)\n",
    "    region_classification = np.argsort(np.argsort(peak_kmeans.cluster_centers_.reshape((-1,))))[region_classification]\n",
    "    peak_kmeans_segmentation[..., lipid_id] = region_classification\n",
    "    "
   ]
  },
  {
   "cell_type": "markdown",
   "id": "455ce665",
   "metadata": {},
   "source": [
    "K-means image segmentation based on estimated signals:"
   ]
  },
  {
   "cell_type": "code",
   "execution_count": null,
   "id": "78023f4b",
   "metadata": {},
   "outputs": [],
   "source": [
    "masserstein_kmeans_segmentation = np.zeros(integrated_peak_areas.shape)\n",
    "for lipid_id, lipid_name in enumerate(lipid_names):\n",
    "    lipid_signals = estimated_lipid_signals[:,:,lipid_id]\n",
    "    lipid_signals = lipid_signals.reshape((-1,1))\n",
    "    peak_kmeans = KMeans(n_clusters=nclust)\n",
    "    region_classification = peak_kmeans.fit_predict(lipid_signals)\n",
    "    region_classification = region_classification.reshape(40, 40)\n",
    "    lipid_signals = lipid_signals.reshape((40, 40))\n",
    "    region_classification = np.argsort(np.argsort(peak_kmeans.cluster_centers_.reshape((-1,))))[region_classification]\n",
    "    masserstein_kmeans_segmentation[..., lipid_id] = region_classification\n",
    "    "
   ]
  },
  {
   "cell_type": "markdown",
   "id": "e641a80d",
   "metadata": {},
   "source": [
    "## spatial-DGMM image segmentation"
   ]
  },
  {
   "cell_type": "markdown",
   "id": "77827256",
   "metadata": {},
   "source": [
    "Now, we'll perform a spatial-DGMM segmentations based on peak intensities and based on masserstein estimates.   \n",
    "First, convert the signal and intensity arrays to data frames in a long format "
   ]
  },
  {
   "cell_type": "code",
   "execution_count": null,
   "id": "d78b5736",
   "metadata": {},
   "outputs": [],
   "source": [
    "coords = [[j, i] for i in range(40) for j in range(40)]"
   ]
  },
  {
   "cell_type": "code",
   "execution_count": null,
   "id": "dd345567",
   "metadata": {},
   "outputs": [],
   "source": [
    "integrated_peak_areas_melt = [integrated_peak_areas[i,j,...] for i in range(40) for j in range(40)] \n",
    "estimated_lipid_signals_melt = [estimated_lipid_signals[i,j,...] for i in range(40) for j in range(40)] "
   ]
  },
  {
   "cell_type": "code",
   "execution_count": null,
   "id": "4518a9f4",
   "metadata": {},
   "outputs": [],
   "source": [
    "integrated_peak_areas_df = pd.DataFrame(integrated_peak_areas_melt, columns = lipid_names)\n",
    "estimated_lipid_signals_df = pd.DataFrame(estimated_lipid_signals_melt, columns = lipid_names)"
   ]
  },
  {
   "cell_type": "markdown",
   "id": "033e78f0",
   "metadata": {},
   "source": [
    "Import the prepared data frames into the R environment"
   ]
  },
  {
   "cell_type": "code",
   "execution_count": null,
   "id": "74c9f212",
   "metadata": {},
   "outputs": [],
   "source": [
    "%R -i integrated_peak_areas_df \n",
    "%R -i estimated_lipid_signals_df\n",
    "%R -i coords\n",
    "%R -i lipid_names"
   ]
  },
  {
   "cell_type": "markdown",
   "id": "413d59d9",
   "metadata": {},
   "source": [
    "Prepare the `MSImagingExperiment` objects from the `Cardinal` package"
   ]
  },
  {
   "cell_type": "code",
   "execution_count": null,
   "id": "7ed5956f",
   "metadata": {},
   "outputs": [],
   "source": [
    "%%R \n",
    "\n",
    "coords <- as.data.frame(t(coords))\n",
    "colnames(coords) <- c('x', 'y')"
   ]
  },
  {
   "cell_type": "code",
   "execution_count": null,
   "id": "ee9820f0",
   "metadata": {},
   "outputs": [],
   "source": [
    "%%R\n",
    "\n",
    "intsy_data <- t(integrated_peak_areas_df)\n",
    "signal_data <- t(estimated_lipid_signals_df)\n",
    "fdata <- MassDataFrame(mz=1:3, row.names=as.character(lipid_names))\n",
    "run <- factor(rep(\"run0\", ncol(coords)))\n",
    "pdata <- PositionDataFrame(run=run, coord=coords)\n",
    "\n",
    "masserstein_image <- MSImagingExperiment(spectraData=signal_data,\n",
    "                                         featureData=fdata,\n",
    "                                         pixelData=pdata,\n",
    "                                        centroided=TRUE)\n",
    "\n",
    "intensity_image <- MSImagingExperiment(spectraData=intsy_data,\n",
    "                                       featureData=fdata,\n",
    "                                       pixelData=pdata,\n",
    "                                      centroided=TRUE)"
   ]
  },
  {
   "cell_type": "code",
   "execution_count": null,
   "id": "beef932c",
   "metadata": {},
   "outputs": [],
   "source": [
    "%%R\n",
    "\n",
    "intensity_image"
   ]
  },
  {
   "cell_type": "markdown",
   "id": "ec11a0b9",
   "metadata": {},
   "source": [
    "Visualize the obtained images to verify if the imports and convertions were successful.  "
   ]
  },
  {
   "cell_type": "code",
   "execution_count": null,
   "id": "9457b642",
   "metadata": {},
   "outputs": [],
   "source": [
    "%%R \n",
    "image(intensity_image, i=1:3)"
   ]
  },
  {
   "cell_type": "code",
   "execution_count": null,
   "id": "7f089670",
   "metadata": {},
   "outputs": [],
   "source": [
    "%%R \n",
    "image(masserstein_image,i=1:3)"
   ]
  },
  {
   "cell_type": "markdown",
   "id": "96c97ac0",
   "metadata": {},
   "source": [
    "Do the segmentation:"
   ]
  },
  {
   "cell_type": "code",
   "execution_count": null,
   "id": "3baeef88",
   "metadata": {},
   "outputs": [],
   "source": [
    "%%R \n",
    "\n",
    "peak_sdgmm <- spatialDGMM(intensity_image, k=2)\n",
    "masserstein_sdgmm <- spatialDGMM(masserstein_image, k=2)"
   ]
  },
  {
   "cell_type": "markdown",
   "id": "d09cfddc",
   "metadata": {},
   "source": [
    "Visualize segmentations in R prior to importing back to Python:"
   ]
  },
  {
   "cell_type": "code",
   "execution_count": null,
   "id": "2d615ddb",
   "metadata": {},
   "outputs": [],
   "source": [
    "%%R \n",
    "\n",
    "image(peak_sdgmm, values='class', i=1:3)"
   ]
  },
  {
   "cell_type": "code",
   "execution_count": null,
   "id": "0aefc88d",
   "metadata": {},
   "outputs": [],
   "source": [
    "%%R\n",
    "\n",
    "plot(peak_sdgmm, i=1:3)"
   ]
  },
  {
   "cell_type": "code",
   "execution_count": null,
   "id": "d6223e82",
   "metadata": {},
   "outputs": [],
   "source": [
    "%%R\n",
    "\n",
    "image(masserstein_sdgmm, values='class', i=1:3)"
   ]
  },
  {
   "cell_type": "code",
   "execution_count": null,
   "id": "c2828384",
   "metadata": {},
   "outputs": [],
   "source": [
    "%%R\n",
    "\n",
    "plot(masserstein_sdgmm, i=1:3)"
   ]
  },
  {
   "cell_type": "code",
   "execution_count": null,
   "id": "6d0250e3",
   "metadata": {},
   "outputs": [],
   "source": [
    "%%R\n",
    "\n",
    "masserstein_sdgmm_segmentation_melt <- sapply(masserstein_sdgmm$class, as.numeric)\n",
    "peak_sdgmm_segmentation_melt <- sapply(peak_sdgmm$class, as.numeric)\n"
   ]
  },
  {
   "cell_type": "code",
   "execution_count": null,
   "id": "9c0873ee",
   "metadata": {},
   "outputs": [],
   "source": [
    "masserstein_sdgmm_segmentation_melt = %Rget masserstein_sdgmm_segmentation_melt\n",
    "peak_sdgmm_segmentation_melt = %Rget peak_sdgmm_segmentation_melt"
   ]
  },
  {
   "cell_type": "code",
   "execution_count": null,
   "id": "eb4948fc",
   "metadata": {},
   "outputs": [],
   "source": [
    "masserstein_sdgmm_segmentation = np.array(\n",
    "    [\n",
    "        [\n",
    "            [\n",
    "                masserstein_sdgmm_segmentation_melt[40*i+j,k] for k in range(3) \n",
    "            ]  for j in range(40)\n",
    "        ] for i in range(40)\n",
    "    ]\n",
    ")\n",
    "masserstein_sdgmm_segmentation -= 2\n",
    "masserstein_sdgmm_segmentation *= -1\n",
    "\n",
    "peak_sdgmm_segmentation = np.array(\n",
    "    [\n",
    "        [\n",
    "            [\n",
    "                peak_sdgmm_segmentation_melt[40*i+j,k] for k in range(3) \n",
    "            ]  for j in range(40)\n",
    "        ] for i in range(40)\n",
    "    ]\n",
    ")\n",
    "peak_sdgmm_segmentation -= 2\n",
    "peak_sdgmm_segmentation *= -1"
   ]
  },
  {
   "cell_type": "markdown",
   "id": "c74737f0",
   "metadata": {},
   "source": [
    "Verify a successful conversion:"
   ]
  },
  {
   "cell_type": "code",
   "execution_count": null,
   "id": "aafc92fc",
   "metadata": {},
   "outputs": [],
   "source": [
    "plt.subplots(2,3, figsize=(8,4))\n",
    "for lipid_id, lipid_name in enumerate(lipid_names):\n",
    "    plt.subplot(231+lipid_id)\n",
    "    plt.title(lipid_name + ' peak')\n",
    "    plt.imshow(peak_sdgmm_segmentation[..., lipid_id])\n",
    "    plt.axis('off')\n",
    "    plt.subplot(234+lipid_id)\n",
    "    plt.title(lipid_name + ' signal')\n",
    "    plt.imshow(masserstein_sdgmm_segmentation[..., lipid_id])\n",
    "    plt.axis('off')\n",
    "plt.tight_layout()"
   ]
  },
  {
   "cell_type": "markdown",
   "id": "517396b3",
   "metadata": {},
   "source": [
    "## Comparison of segmentation results"
   ]
  },
  {
   "cell_type": "markdown",
   "id": "4158c889",
   "metadata": {},
   "source": [
    "Accuracy of different segmentation approaches"
   ]
  },
  {
   "cell_type": "code",
   "execution_count": null,
   "id": "ecb2d327",
   "metadata": {},
   "outputs": [],
   "source": [
    "nclust = 2\n",
    "\n",
    "algorithms = ['Peak K-means', 'WS K-means', 'Peak sDGMM', 'WS sDGMM']\n",
    "accuracy = np.zeros((len(lipid_names), len(algorithms)))\n",
    "correlation = np.zeros((len(lipid_names), len(algorithms)))\n",
    "\n",
    "for lipid_id, lipid_name in enumerate(lipid_names):\n",
    "    # Peak K-means\n",
    "    region_classification = peak_kmeans_segmentation[..., lipid_id]\n",
    "    accuracy[lipid_id, 0] = np.mean(region_classification == enrichment_mask[...,lipid_id])\n",
    "    correlation[lipid_id, 0] = pearsonr(region_classification.flatten(), enrichment_mask[...,lipid_id].flatten())[0]\n",
    "    # WS K-means\n",
    "    region_classification = masserstein_kmeans_segmentation[..., lipid_id]\n",
    "    accuracy[lipid_id, 1] = np.mean(region_classification == enrichment_mask[...,lipid_id])\n",
    "    correlation[lipid_id, 1] = pearsonr(region_classification.flatten(), enrichment_mask[...,lipid_id].flatten())[0]\n",
    "    # Peak spatialDGMM\n",
    "    region_classification = peak_sdgmm_segmentation[..., lipid_id]\n",
    "    accuracy[lipid_id, 2] = np.mean(region_classification == enrichment_mask[...,lipid_id])\n",
    "    correlation[lipid_id, 2] = pearsonr(region_classification.flatten(), enrichment_mask[...,lipid_id].flatten())[0]\n",
    "    # WS spatialDGMM\n",
    "    region_classification = masserstein_sdgmm_segmentation[..., lipid_id]\n",
    "    # ws_sdgmm_specificity[lipid_id] = np.sum(region_classification * enrichment_mask[...,lipid_id])/np.sum(enrichment_mask[...,lipid_id])\n",
    "    accuracy[lipid_id, 3] = np.mean(region_classification == enrichment_mask[...,lipid_id])\n",
    "    correlation[lipid_id, 3] = pearsonr(region_classification.flatten(), enrichment_mask[...,lipid_id].flatten())[0]\n",
    "\n",
    "average_accuracy = np.mean(accuracy, axis=0)\n",
    "average_correlation = np.mean(correlation, axis=0)"
   ]
  },
  {
   "cell_type": "code",
   "execution_count": null,
   "id": "ce2f3767",
   "metadata": {},
   "outputs": [],
   "source": [
    "print('Accuracy of segmentation:')\n",
    "print('Lipid     ', 'Peak K-means', 'WS K-means', 'Peak sDGMM', 'WS sDGMM', sep='\\t')\n",
    "for i, n in enumerate(lipid_names):\n",
    "    acc_vec = ['{:2.2f}%     '.format(100*x) for x in accuracy[i]]\n",
    "    print(n, *acc_vec, sep='\\t')\n",
    "print('Average     ', *['{:2.2f}%     '.format(100*x) for x in average_accuracy], sep='\\t')\n",
    "print('Correlation of segmentation:')\n",
    "print('Lipid     ', 'Peak K-means', 'WS K-means', 'Peak sDGMM', 'WS sDGMM', sep='\\t')\n",
    "for i, n in enumerate(lipid_names):\n",
    "    corr_vec = ['{:0.4f}     '.format(x) for x in correlation[i]]\n",
    "    print(n, *corr_vec, sep='\\t')\n",
    "print('Average     ', *['{:0.4f}     '.format(x) for x in average_correlation], sep='\\t')"
   ]
  },
  {
   "cell_type": "markdown",
   "id": "3cc92f62",
   "metadata": {},
   "source": [
    "Visualize segments obtained with the four approaches:"
   ]
  },
  {
   "cell_type": "code",
   "execution_count": null,
   "id": "ca1761d6",
   "metadata": {},
   "outputs": [],
   "source": [
    "accuracy"
   ]
  },
  {
   "cell_type": "code",
   "execution_count": null,
   "id": "6fd3ef46",
   "metadata": {},
   "outputs": [],
   "source": [
    "plt.subplots(4, 3, figsize=(4.6,6.3))\n",
    "for lipid_id, lipid_name in enumerate(lipid_names):\n",
    "    plt.subplot(4, 3, 1 + lipid_id)\n",
    "    plt.title(lipid_name)\n",
    "    plt.imshow(peak_kmeans_segmentation[..., lipid_id])\n",
    "    plt.text(38, 1, str(int(100*accuracy[lipid_id, 0]))+'%',\n",
    "            bbox=dict(facecolor='white', edgecolor='black', boxstyle='round,pad=0.2'),\n",
    "            ha='right', va='top')\n",
    "    plt.axis('off')\n",
    "    \n",
    "    plt.subplot(4, 3, 4 + lipid_id)\n",
    "    plt.imshow(peak_sdgmm_segmentation[..., lipid_id])\n",
    "    plt.text(38, 1, str(int(100*accuracy[lipid_id, 2]))+'%',\n",
    "            bbox=dict(facecolor='white', edgecolor='black', boxstyle='round,pad=0.2'),\n",
    "            ha='right', va='top')\n",
    "    plt.axis('off')\n",
    "    \n",
    "    plt.subplot(4, 3, 7 + lipid_id)\n",
    "    plt.imshow(masserstein_kmeans_segmentation[..., lipid_id])\n",
    "    plt.text(38, 1, str(int(100*accuracy[lipid_id, 1]))+'%',\n",
    "            bbox=dict(facecolor='white', edgecolor='black', boxstyle='round,pad=0.2'),\n",
    "            ha='right', va='top')\n",
    "    plt.axis('off')\n",
    "    \n",
    "    plt.subplot(4, 3, 10 + lipid_id)\n",
    "    plt.imshow(masserstein_sdgmm_segmentation[..., lipid_id])\n",
    "    plt.text(38, 1, str(int(100*accuracy[lipid_id, 3]))+'%',\n",
    "            bbox=dict(facecolor='white', edgecolor='black', boxstyle='round,pad=0.2'),\n",
    "            ha='right', va='top')\n",
    "    plt.axis('off')\n",
    "    \n",
    "plt.subplot(4,3,3)\n",
    "plt.text(40, 20, 'Peak intensity\\nK-means', rotation=-90, rotation_mode='anchor', ha='center', va='bottom')\n",
    "plt.subplot(4,3,6)\n",
    "plt.text(40, 20, 'Peak intensity\\nspatial-DGMM', rotation=-90, rotation_mode='anchor', ha='center', va='bottom')\n",
    "plt.subplot(4,3,9)\n",
    "plt.text(40, 20, 'Masserstein\\nK-means', rotation=-90, rotation_mode='anchor', ha='center', va='bottom')\n",
    "plt.subplot(4,3,12)\n",
    "plt.text(40, 20, 'Masserstein\\nspatial-DGMM', rotation=-90, rotation_mode='anchor', ha='center', va='bottom')\n",
    "\n",
    "plt.tight_layout()\n",
    "plt.savefig('Figs/simulations/segmentation_comparison.png', dpi=600)"
   ]
  },
  {
   "cell_type": "markdown",
   "id": "4517ead9",
   "metadata": {},
   "source": [
    "Visualize the distribution of signals in clusters"
   ]
  },
  {
   "cell_type": "code",
   "execution_count": null,
   "id": "01b60798",
   "metadata": {},
   "outputs": [],
   "source": [
    "plt.subplots(6, 3, figsize=(12,14))\n",
    "for lipid_id, lipid_name in enumerate(lipid_names):\n",
    "    plt.subplot(6, 3, 1 + lipid_id)\n",
    "    plt.hist([integrated_peak_areas[enrichment_mask[..., lipid_id]==i, lipid_id] for i in range(nclust)], stacked=True, bins=40)\n",
    "    plt.legend(['Low','High'])\n",
    "    plt.title(lipid_name + ', peak intensity\\nTrue segments')\n",
    "    \n",
    "    plt.subplot(6, 3, 4 + lipid_id)\n",
    "    plt.hist([estimated_lipid_signals[enrichment_mask[..., lipid_id]==i, lipid_id] for i in range(nclust)], stacked=True, bins=40)\n",
    "    plt.legend(['Low','High'])\n",
    "    plt.title(lipid_name + ', Masserstein\\nTrue segments')\n",
    "    \n",
    "    plt.subplot(6, 3, 7 + lipid_id)\n",
    "    plt.hist([integrated_peak_areas[peak_kmeans_segmentation[..., lipid_id]==i, lipid_id] for i in range(nclust)], stacked=True, bins=40)\n",
    "    plt.legend(['Cluster 0','Cluster 1'])\n",
    "    plt.title(lipid_name + ', peak intensity\\nK-means')\n",
    "    \n",
    "    plt.subplot(6, 3, 10 + lipid_id)\n",
    "    plt.hist([estimated_lipid_signals[masserstein_kmeans_segmentation[..., lipid_id]==i, lipid_id] for i in range(nclust)], stacked=True, bins=40)\n",
    "    plt.legend(['Cluster 0','Cluster 1'])\n",
    "    plt.title(lipid_name + ', Masserstein\\nK-means')\n",
    "    \n",
    "    plt.subplot(6, 3, 13 + lipid_id)\n",
    "    plt.hist([integrated_peak_areas[peak_sdgmm_segmentation[..., lipid_id]==i, lipid_id] for i in range(nclust)], stacked=True, bins=40)\n",
    "    plt.legend(['Cluster 0','Cluster 1'])\n",
    "    plt.title(lipid_name + ', peak intensity\\nspatial-DGMM')\n",
    "    \n",
    "    plt.subplot(6, 3, 16 + lipid_id)\n",
    "    plt.hist([estimated_lipid_signals[masserstein_sdgmm_segmentation[..., lipid_id]==i, lipid_id] for i in range(nclust)], stacked=True, bins=40)\n",
    "    plt.legend(['Cluster 0','Cluster 1'])\n",
    "    plt.title(lipid_name + ', Masserstein\\nspatial-DGMM')\n",
    "plt.tight_layout()\n",
    "plt.savefig('Figs/simulations/intensity_distributions_in_clusters.png', dpi=600)"
   ]
  },
  {
   "cell_type": "code",
   "execution_count": null,
   "id": "1cdbfba7",
   "metadata": {},
   "outputs": [],
   "source": []
  },
  {
   "cell_type": "markdown",
   "id": "e639bce7",
   "metadata": {},
   "source": [
    "# Selecting an ion image to save"
   ]
  },
  {
   "cell_type": "code",
   "execution_count": null,
   "id": "e7cb0fee",
   "metadata": {},
   "outputs": [],
   "source": [
    "spectrum_of_interest = min(lipid_spectra['cerebellum'], key = lambda x: x.confs[0][0])\n",
    "    with ImzMLWriter('%s_deconvolved_image.imzML' % n) as writer:\n",
    "        for i in range(image_shapes[n][0]):\n",
    "            for j in range(image_shapes[n][1]):\n",
    "                sorted_intensity = [deconv_img[i,j,iid] for iid in mass_axis_order]\n",
    "                writer.addSpectrum(sorted_mass_axis, sorted_intensity, (j, i))"
   ]
  },
  {
   "cell_type": "code",
   "execution_count": 18,
   "id": "9b57a823",
   "metadata": {},
   "outputs": [],
   "source": [
    "spectrum_of_interest = min(zip(lipid_spectra['cerebellum'], range(len(lipid_spectra['cerebellum']))), key = lambda x: abs(x[0].confs[0][0]-755.47))"
   ]
  },
  {
   "cell_type": "code",
   "execution_count": 25,
   "id": "b2ac4138",
   "metadata": {},
   "outputs": [],
   "source": [
    "n='cerebellum'\n",
    "mz = spectrum_of_interest[0].confs[0][0]\n",
    "lid = spectrum_of_interest[1]\n",
    "with ImzMLWriter('test_image.imzML') as writer:\n",
    "    for i in range(image_shapes[n][0]):\n",
    "        for j in range(image_shapes[n][1]):\n",
    "            writer.addSpectrum([mz], [regression_images['cerebellum'][i,j,lid]], (j, i))"
   ]
  },
  {
   "cell_type": "code",
   "execution_count": 24,
   "id": "9ec47e66",
   "metadata": {},
   "outputs": [
    {
     "data": {
      "text/plain": [
       "35"
      ]
     },
     "execution_count": 24,
     "metadata": {},
     "output_type": "execute_result"
    }
   ],
   "source": [
    "lid"
   ]
  },
  {
   "cell_type": "code",
   "execution_count": null,
   "id": "0f294ae3",
   "metadata": {},
   "outputs": [],
   "source": []
  }
 ],
 "metadata": {
  "kernelspec": {
   "display_name": "Python 3 (ipykernel)",
   "language": "python",
   "name": "python3"
  },
  "language_info": {
   "codemirror_mode": {
    "name": "ipython",
    "version": 3
   },
   "file_extension": ".py",
   "mimetype": "text/x-python",
   "name": "python",
   "nbconvert_exporter": "python",
   "pygments_lexer": "ipython3",
   "version": "3.10.12"
  }
 },
 "nbformat": 4,
 "nbformat_minor": 5
}
